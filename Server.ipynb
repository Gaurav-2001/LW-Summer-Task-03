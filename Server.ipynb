{
 "cells": [
  {
   "cell_type": "code",
   "execution_count": null,
   "metadata": {},
   "outputs": [],
   "source": [
    "import socket, cv2, pickle, numpy, struct"
   ]
  },
  {
   "cell_type": "code",
   "execution_count": null,
   "metadata": {},
   "outputs": [],
   "source": [
    "s=socket.socket(socket.AF_INET,socket.SOCK_STREAM)\n",
    "s.bind((\"127.0.0.1\",1234))"
   ]
  },
  {
   "cell_type": "code",
   "execution_count": null,
   "metadata": {},
   "outputs": [],
   "source": [
    "s.listen()\n",
    "conn,addr=s.accept()\n",
    "\n",
    "data = b\"\"\n",
    "payload_size = struct.calcsize(\">L\")\n",
    "print(\"payload_size: {}\".format(payload_size))\n",
    "\n",
    "while True:\n",
    "    while len(data) < payload_size:\n",
    "        print(\"Recv: {}\".format(len(data)))\n",
    "        data += conn.recv(4096)\n",
    "    print(\"Done Recv: {}\".format(len(data)))\n",
    "    packed_msg_size = data[:payload_size]\n",
    "    data = data[payload_size:]\n",
    "    print(\"data: {}\".format(data))\n",
    "    msg_size = struct.unpack(\">L\", packed_msg_size)[0]\n",
    "    print(\"msg_size: {}\".format(msg_size))\n",
    "    while len(data) < msg_size:\n",
    "        data += conn.recv(4096)\n",
    "    frame_data = data[:msg_size]\n",
    "    data = data[msg_size:]\n",
    "    frame=pickle.loads(frame_data, fix_imports=True, encoding=\"bytes\")\n",
    "    frame = cv2.imdecode(frame, cv2.IMREAD_COLOR)\n",
    "    cv2.imshow('ImageWindow',frame)\n",
    "    if cv2.waitKey(1)==13:\n",
    "        break\n",
    "cv2.destroyAllWindows()"
   ]
  }
 ],
 "metadata": {
  "kernelspec": {
   "display_name": "Python 3",
   "language": "python",
   "name": "python3"
  },
  "language_info": {
   "codemirror_mode": {
    "name": "ipython",
    "version": 3
   },
   "file_extension": ".py",
   "mimetype": "text/x-python",
   "name": "python",
   "nbconvert_exporter": "python",
   "pygments_lexer": "ipython3",
   "version": "3.8.3"
  }
 },
 "nbformat": 4,
 "nbformat_minor": 4
}
