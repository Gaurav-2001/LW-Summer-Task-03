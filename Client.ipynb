{
 "cells": [
  {
   "cell_type": "code",
   "execution_count": null,
   "metadata": {},
   "outputs": [],
   "source": [
    "import cv2,socket,struct,pickle"
   ]
  },
  {
   "cell_type": "code",
   "execution_count": null,
   "metadata": {},
   "outputs": [],
   "source": [
    "client_socket = socket.socket(socket.AF_INET, socket.SOCK_STREAM)\n",
    "client_socket.connect((\"127.0.0.1\",1234))"
   ]
  },
  {
   "cell_type": "code",
   "execution_count": null,
   "metadata": {},
   "outputs": [],
   "source": [
    "cam = cv2.VideoCapture(0)\n",
    "client_socket.settimeout(2)\n",
    "img_counter = 0\n",
    "while True:\n",
    "    ret, frame = cam.read()\n",
    "    #Encodes an image into a memory buffer.\n",
    "    #The function imencode compresses the image and stores it in the memory buffer that is resized to fit the result\n",
    "    result, frame = cv2.imencode('.jpg', frame)\n",
    "    #The pickle module implements binary protocols for serializing and de-serializing a Python object structure. “Pickling” is the process whereby a Python object hierarchy is converted into a byte stream, and “unpickling” is the inverse operation, whereby a byte stream (from a binary file or bytes-like object) is converted back into an object hierarchy. Pickling (and unpickling) is alternatively known as “serialization”, “marshalling,” 1 or “flattening”; however, to avoid confusion, the terms used here are “pickling” and “unpickling”.\n",
    "    #here 0 is a protocol\n",
    "    #Protocol version 0 is the original “human-readable” protocol and is backwards compatible with earlier versions of Python.\n",
    "    data = pickle.dumps(frame, 0)\n",
    "    size = len(data)\n",
    "    print(\"{}: {}\".format(img_counter, size))\n",
    "    try:\n",
    "        client_socket.sendall(struct.pack(\">L\", size) + data)\n",
    "    #This will raise a socket.timeout exception when no data has been recieved in timeout time.\n",
    "    except socket.timeout:\n",
    "        break        \n",
    "    img_counter += 1\n",
    "cam.release()"
   ]
  },
  {
   "cell_type": "code",
   "execution_count": null,
   "metadata": {},
   "outputs": [],
   "source": []
  }
 ],
 "metadata": {
  "kernelspec": {
   "display_name": "Python 3",
   "language": "python",
   "name": "python3"
  },
  "language_info": {
   "codemirror_mode": {
    "name": "ipython",
    "version": 3
   },
   "file_extension": ".py",
   "mimetype": "text/x-python",
   "name": "python",
   "nbconvert_exporter": "python",
   "pygments_lexer": "ipython3",
   "version": "3.8.3"
  }
 },
 "nbformat": 4,
 "nbformat_minor": 4
}
